{
 "cells": [
  {
   "cell_type": "code",
   "execution_count": 13,
   "metadata": {},
   "outputs": [],
   "source": [
    "import json\n",
    "import pandas as pd\n",
    "import numpy as np\n",
    "import matplotlib.pyplot as plt\n",
    "import torch\n",
    "import torch.nn as nn\n"
   ]
  },
  {
   "cell_type": "code",
   "execution_count": 14,
   "metadata": {},
   "outputs": [
    {
     "data": {
      "text/plain": [
       "array([{'id': '7', 'embedding': array([-0.30261934, -0.35719073, -0.12487533, ...,  0.26781592,\n",
       "              -0.37370443,  0.43345666], shape=(1024,), dtype=float32)}                        ,\n",
       "       {'id': '9', 'embedding': array([-0.3979534 , -0.4428711 , -0.22323021, ...,  0.2734235 ,\n",
       "              -0.32293144,  0.39594203], shape=(1024,), dtype=float32)}                        ,\n",
       "       {'id': '17', 'embedding': array([-0.2801599 , -0.3721223 , -0.12718917, ...,  0.3298403 ,\n",
       "              -0.29190361,  0.37820616], shape=(1024,), dtype=float32)}                         ,\n",
       "       {'id': '23', 'embedding': array([-0.36373278, -0.34094778, -0.0598486 , ...,  0.36762115,\n",
       "              -0.4102371 ,  0.4345766 ], shape=(1024,), dtype=float32)}                         ,\n",
       "       {'id': '28', 'embedding': array([-0.333588  , -0.27517045, -0.11987694, ...,  0.35033253,\n",
       "              -0.47116268,  0.37855092], shape=(1024,), dtype=float32)}                         ,\n",
       "       {'id': '29', 'embedding': array([-0.26731384, -0.3578527 , -0.06026583, ...,  0.323895  ,\n",
       "              -0.40818572,  0.41577795], shape=(1024,), dtype=float32)}                         ,\n",
       "       {'id': '30', 'embedding': array([-0.41951084, -0.36635858, -0.07547238, ...,  0.36411253,\n",
       "              -0.58714044,  0.46923196], shape=(1024,), dtype=float32)}                         ,\n",
       "       {'id': '31', 'embedding': array([-0.31906542, -0.4188009 , -0.1846045 , ...,  0.23130772,\n",
       "              -0.40194947,  0.43748924], shape=(1024,), dtype=float32)}                         ,\n",
       "       {'id': '49', 'embedding': array([-0.3227872 , -0.3464164 , -0.15028796, ...,  0.36612248,\n",
       "              -0.45437527,  0.39137802], shape=(1024,), dtype=float32)}                         ,\n",
       "       {'id': '50', 'embedding': array([-0.34172365, -0.36796305, -0.1222123 , ...,  0.23580243,\n",
       "              -0.32345656,  0.4817748 ], shape=(1024,), dtype=float32)}                         ,\n",
       "       {'id': '52', 'embedding': array([-0.35378075, -0.37210533, -0.10386098, ...,  0.29375306,\n",
       "              -0.45834526,  0.44037718], shape=(1024,), dtype=float32)}                         ,\n",
       "       {'id': '56', 'embedding': array([-0.37983826, -0.35941634, -0.151813  , ...,  0.31638828,\n",
       "              -0.3997729 ,  0.4238513 ], shape=(1024,), dtype=float32)}                         ,\n",
       "       {'id': '58', 'embedding': array([-0.34159493, -0.41497815, -0.19872722, ...,  0.3462554 ,\n",
       "              -0.2999286 ,  0.385608  ], shape=(1024,), dtype=float32)}                         ,\n",
       "       {'id': '64', 'embedding': array([-0.33840364, -0.44587868, -0.219511  , ...,  0.34790418,\n",
       "              -0.39134815,  0.5039534 ], shape=(1024,), dtype=float32)}                         ,\n",
       "       {'id': '79', 'embedding': array([-0.40935442, -0.4230575 , -0.21147782, ...,  0.26365432,\n",
       "              -0.33673865,  0.43128872], shape=(1024,), dtype=float32)}                         ,\n",
       "       {'id': '87', 'embedding': array([-0.37675837, -0.38191098, -0.10500135, ...,  0.3496224 ,\n",
       "              -0.4278248 ,  0.3790948 ], shape=(1024,), dtype=float32)}                         ,\n",
       "       {'id': '88', 'embedding': array([-0.44333062, -0.4566786 , -0.23625529, ...,  0.31704307,\n",
       "              -0.3565782 ,  0.46185943], shape=(1024,), dtype=float32)}                         ,\n",
       "       {'id': '91', 'embedding': array([-0.32443386, -0.36172745, -0.08423659, ...,  0.32286426,\n",
       "              -0.41783127,  0.4082586 ], shape=(1024,), dtype=float32)}                         ,\n",
       "       {'id': '102', 'embedding': array([-0.29511607, -0.30209586, -0.06674312, ...,  0.3316664 ,\n",
       "              -0.35168725,  0.4443496 ], shape=(1024,), dtype=float32)}                          ,\n",
       "       {'id': '109', 'embedding': array([-0.37795416, -0.2759911 , -0.08696004, ...,  0.36549473,\n",
       "              -0.5249954 ,  0.44318286], shape=(1024,), dtype=float32)}                          ,\n",
       "       {'id': '113', 'embedding': array([-0.2820433 , -0.36275584, -0.05033748, ...,  0.29691935,\n",
       "              -0.34240562,  0.4208584 ], shape=(1024,), dtype=float32)}                          ,\n",
       "       {'id': '117', 'embedding': array([-0.3427471 , -0.35392323, -0.07609206, ...,  0.33869797,\n",
       "              -0.46859646,  0.44535452], shape=(1024,), dtype=float32)}                          ],\n",
       "      dtype=object)"
      ]
     },
     "execution_count": 14,
     "metadata": {},
     "output_type": "execute_result"
    }
   ],
   "source": [
    "data = np.load('/home/ghy/workspace/MPDD-Young/Training/individualEmbedding/descriptions_embeddings_with_ids.npy', allow_pickle=True)\n",
    "data[0]['embedding'].shape\n",
    "# data_ori = torch.tensor(data[0]['embedding'], dtype=torch.float32)\n",
    "data"
   ]
  },
  {
   "cell_type": "code",
   "execution_count": 15,
   "metadata": {},
   "outputs": [
    {
     "data": {
      "text/plain": [
       "(72, 512)"
      ]
     },
     "execution_count": 15,
     "metadata": {},
     "output_type": "execute_result"
    }
   ],
   "source": [
    "data2 = np.load(\"/home/ghy/workspace/MPDD-Young/Training/1s/Audio/wav2vec/001_001.npy\")\n",
    "data2.shape"
   ]
  },
  {
   "cell_type": "code",
   "execution_count": 16,
   "metadata": {},
   "outputs": [
    {
     "data": {
      "text/plain": [
       "(72, 709)"
      ]
     },
     "execution_count": 16,
     "metadata": {},
     "output_type": "execute_result"
    }
   ],
   "source": [
    "data3 = np.load(\"/home/ghy/workspace/MPDD-Young/Training/1s/Visual/openface/001_001.npy\")\n",
    "data3.shape"
   ]
  }
 ],
 "metadata": {
  "kernelspec": {
   "display_name": "ghy",
   "language": "python",
   "name": "python3"
  },
  "language_info": {
   "codemirror_mode": {
    "name": "ipython",
    "version": 3
   },
   "file_extension": ".py",
   "mimetype": "text/x-python",
   "name": "python",
   "nbconvert_exporter": "python",
   "pygments_lexer": "ipython3",
   "version": "3.10.16"
  }
 },
 "nbformat": 4,
 "nbformat_minor": 2
}
